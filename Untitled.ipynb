{
 "cells": [
  {
   "cell_type": "code",
   "execution_count": 1,
   "metadata": {},
   "outputs": [
    {
     "name": "stdout",
     "output_type": "stream",
     "text": [
      "Populating the interactive namespace from numpy and matplotlib\n"
     ]
    }
   ],
   "source": [
    "%pylab inline"
   ]
  },
  {
   "cell_type": "code",
   "execution_count": 10,
   "metadata": {},
   "outputs": [],
   "source": [
    "def f(x):\n",
    "    resp=0.94388-3.9978*x+16.4321*x**2-13.1419*x**3\n",
    "    return resp\n",
    "x=[0.832532598430495,\n",
    "0.39088498645803,\n",
    "0.4954283209246325,\n",
    "0.5178255640751934,\n",
    "0.7739524024115277,\n",
    "0.4966454680575301,\n",
    "0.3668105457033554,\n",
    "0.3234585771647255,\n",
    "0.6653014165054433,\n",
    "0.4446875302281453,\n",
    "0.4718008559676279,\n",
    "0.04567485192931046,\n",
    "0.6798066988460711,\n",
    "0.601143883073631,\n",
    "0.6132847235164077,\n",
    "0.3469150010516915,\n",
    "0.7311177081441746,\n",
    "0.3889625480481207,\n",
    "0.191928050205252,\n",
    "0.4662482985604684]\n",
    "\n",
    "y=[1.297511524051863,\n",
    "0.8483790479522098,\n",
    "1.690922020192675,\n",
    "1.672816448801667,\n",
    "1.613481613140477,\n",
    "1.452615206299254,\n",
    "1.078872444621157,\n",
    "1.12770858603238,\n",
    "1.613358026840526,\n",
    "1.26503217161283,\n",
    "1.101699432511154,\n",
    "0.9532733411776386,\n",
    "1.693061141199092,\n",
    "1.812989788127414,\n",
    "1.845978079492093,\n",
    "0.7098826230733248,\n",
    "1.604001619745593,\n",
    "0.8836594068650128,\n",
    "0.5751329181266039,\n",
    "1.23855617359788]"
   ]
  },
  {
   "cell_type": "code",
   "execution_count": 11,
   "metadata": {},
   "outputs": [
    {
     "data": {
      "text/plain": [
       "<matplotlib.collections.PathCollection at 0x7fee0c91a3c8>"
      ]
     },
     "execution_count": 11,
     "metadata": {},
     "output_type": "execute_result"
    },
    {
     "data": {
      "image/png": "[encoded data removed]",
      "text/plain": [
       "<Figure size 432x288 with 1 Axes>"
      ]
     },
     "metadata": {
      "needs_background": "light"
     },
     "output_type": "display_data"
    }
   ],
   "source": [
    "z=np.arange(0,1,0.001)\n",
    "plt.plot(z,f(z))\n",
    "plt.scatter(x,y)"
   ]
  },
  {
   "cell_type": "code",
   "execution_count": 4,
   "metadata": {},
   "outputs": [
    {
     "data": {
      "text/plain": [
       "20"
      ]
     },
     "execution_count": 4,
     "metadata": {},
     "output_type": "execute_result"
    }
   ],
   "source": [
    "len(x)"
   ]
  },
  {
   "cell_type": "code",
   "execution_count": 5,
   "metadata": {},
   "outputs": [
    {
     "data": {
      "text/plain": [
       "20"
      ]
     },
     "execution_count": 5,
     "metadata": {},
     "output_type": "execute_result"
    }
   ],
   "source": [
    "len(y)"
   ]
  },
  {
   "cell_type": "code",
   "execution_count": 7,
   "metadata": {},
   "outputs": [
    {
     "data": {
      "text/plain": [
       "1000"
      ]
     },
     "execution_count": 7,
     "metadata": {},
     "output_type": "execute_result"
    }
   ],
   "source": [
    "len(z)"
   ]
  },
  {
   "cell_type": "code",
   "execution_count": 8,
   "metadata": {},
   "outputs": [],
   "source": [
    "w=f(z)"
   ]
  },
  {
   "cell_type": "code",
   "execution_count": 9,
   "metadata": {},
   "outputs": [
    {
     "data": {
      "text/plain": [
       "2"
      ]
     },
     "execution_count": 9,
     "metadata": {},
     "output_type": "execute_result"
    }
   ],
   "source": [
    "len(w)"
   ]
  },
  {
   "cell_type": "code",
   "execution_count": null,
   "metadata": {},
   "outputs": [],
   "source": []
  }
 ],
 "metadata": {
  "kernelspec": {
   "display_name": "Python 3",
   "language": "python",
   "name": "python3"
  },
  "language_info": {
   "codemirror_mode": {
    "name": "ipython",
    "version": 3
   },
   "file_extension": ".py",
   "mimetype": "text/x-python",
   "name": "python",
   "nbconvert_exporter": "python",
   "pygments_lexer": "ipython3",
   "version": "3.7.2"
  }
 },
 "nbformat": 4,
 "nbformat_minor": 2
}
